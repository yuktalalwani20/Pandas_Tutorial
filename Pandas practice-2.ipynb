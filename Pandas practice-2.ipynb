{
 "cells": [
  {
   "cell_type": "markdown",
   "metadata": {},
   "source": [
    "# Python Pandas DataFrame"
   ]
  },
  {
   "cell_type": "code",
   "execution_count": 1,
   "metadata": {},
   "outputs": [
    {
     "name": "stdout",
     "output_type": "stream",
     "text": [
      "Empty DataFrame\n",
      "Columns: []\n",
      "Index: []\n"
     ]
    }
   ],
   "source": [
    "# Create a DataFrame\n",
    "import pandas as pd\n",
    "df=pd.DataFrame()\n",
    "print(df)"
   ]
  },
  {
   "cell_type": "code",
   "execution_count": 2,
   "metadata": {},
   "outputs": [
    {
     "name": "stdout",
     "output_type": "stream",
     "text": [
      "        0\n",
      "0  Python\n",
      "1  Pandas\n"
     ]
    }
   ],
   "source": [
    "# Create a DataFrame using List\n",
    "import pandas as pd\n",
    "x=['Python','Pandas']\n",
    "\n",
    "# Calling DataFrame constructor on list\n",
    "df=pd.DataFrame(x)\n",
    "print(df)"
   ]
  },
  {
   "cell_type": "code",
   "execution_count": 1,
   "metadata": {},
   "outputs": [
    {
     "name": "stdout",
     "output_type": "stream",
     "text": [
      "    ID Department\n",
      "0  101       B.Sc\n",
      "1  102     B.Tech\n",
      "2  103     M.Tech\n"
     ]
    }
   ],
   "source": [
    "# Create a DataFrame from Dict of ndarrays/Lists\n",
    "import pandas as pd\n",
    "info={'ID':[101,102,103], 'Department':['B.Sc','B.Tech','M.Tech',]}\n",
    "df=pd.DataFrame(info)\n",
    "print(df)"
   ]
  },
  {
   "cell_type": "code",
   "execution_count": 3,
   "metadata": {},
   "outputs": [
    {
     "name": "stdout",
     "output_type": "stream",
     "text": [
      "   one  two\n",
      "a  1.0    1\n",
      "b  2.0    2\n",
      "c  3.0    3\n",
      "d  4.0    4\n",
      "e  5.0    5\n",
      "f  6.0    6\n",
      "g  NaN    7\n",
      "h  NaN    8\n"
     ]
    }
   ],
   "source": [
    "# Create a DataFrame from Dict of Series:\n",
    "import pandas as pd\n",
    "\n",
    "info={'one': pd.Series([1,2,3,4,5,6], index=['a','b','c','d','e','f']),\n",
    "     'two': pd.Series([1,2,3,4,5,6,7,8], index=['a','b','c','d','e','f','g','h'])}\n",
    "\n",
    "d1=pd.DataFrame(info)\n",
    "print(d1)"
   ]
  },
  {
   "cell_type": "code",
   "execution_count": 4,
   "metadata": {},
   "outputs": [
    {
     "name": "stdout",
     "output_type": "stream",
     "text": [
      "a    1.0\n",
      "b    2.0\n",
      "c    3.0\n",
      "d    4.0\n",
      "e    5.0\n",
      "f    6.0\n",
      "g    NaN\n",
      "h    NaN\n",
      "Name: one, dtype: float64\n"
     ]
    }
   ],
   "source": [
    "# Column Selection\n",
    "import pandas as pd\n",
    "\n",
    "info={'one': pd.Series([1,2,3,4,5,6], index=['a','b','c','d','e','f']),\n",
    "     'two': pd.Series([1,2,3,4,5,6,7,8], index=['a','b','c','d','e','f','g','h'])}\n",
    "\n",
    "d1=pd.DataFrame(info)\n",
    "print(d1['one'])"
   ]
  },
  {
   "cell_type": "code",
   "execution_count": 6,
   "metadata": {},
   "outputs": [
    {
     "name": "stdout",
     "output_type": "stream",
     "text": [
      "Add new column by passing series\n",
      "   one  two  three\n",
      "a  1.0    1   20.0\n",
      "b  2.0    2   40.0\n",
      "c  3.0    3   60.0\n",
      "d  4.0    4    NaN\n",
      "e  5.0    5    NaN\n",
      "f  NaN    6    NaN\n",
      "Add new column using existing DataFrame columns\n",
      "   one  two  three  four\n",
      "a  1.0    1   20.0  21.0\n",
      "b  2.0    2   40.0  42.0\n",
      "c  3.0    3   60.0  63.0\n",
      "d  4.0    4    NaN   NaN\n",
      "e  5.0    5    NaN   NaN\n",
      "f  NaN    6    NaN   NaN\n"
     ]
    }
   ],
   "source": [
    "# Column Addition\n",
    "import pandas as pd\n",
    "\n",
    "info={'one': pd.Series([1,2,3,4,5], index=['a','b','c','d','e']),\n",
    "     'two': pd.Series([1,2,3,4,5,6], index=['a','b','c','d','e','f'])}\n",
    "\n",
    "df=pd.DataFrame(info)\n",
    "\n",
    "# Add a new column to an existing DataFrame object\n",
    "print(\"Add new column by passing series\")\n",
    "df['three']=pd.Series([20,40,60], index=['a','b','c'])\n",
    "print(df)\n",
    "\n",
    "print(\"Add new column using existing DataFrame columns\")\n",
    "df['four']=df['one'] + df['three']\n",
    "\n",
    "print(df)"
   ]
  },
  {
   "cell_type": "code",
   "execution_count": 7,
   "metadata": {},
   "outputs": [
    {
     "name": "stdout",
     "output_type": "stream",
     "text": [
      "The DataFrame:\n",
      "   one  two\n",
      "a  1.0    1\n",
      "b  2.0    2\n",
      "c  NaN    3\n",
      "Delete the first column:\n",
      "   two\n",
      "a    1\n",
      "b    2\n",
      "c    3\n",
      "Delete the another column:\n",
      "Empty DataFrame\n",
      "Columns: []\n",
      "Index: [a, b, c]\n"
     ]
    }
   ],
   "source": [
    "# Columns Deletion\n",
    "import pandas as pd\n",
    "info={'one':pd.Series([1,2], index=['a','b']),\n",
    "     'two':pd.Series([1,2,3], index=['a','b','c'])}\n",
    "df=pd.DataFrame(info)\n",
    "print(\"The DataFrame:\")\n",
    "print(df)\n",
    "\n",
    "# using del function\n",
    "print(\"Delete the first column:\")\n",
    "del df['one']\n",
    "print(df)\n",
    "\n",
    "# using pop function\n",
    "print(\"Delete the another column:\")\n",
    "df.pop('two')\n",
    "print(df)"
   ]
  },
  {
   "cell_type": "code",
   "execution_count": null,
   "metadata": {},
   "outputs": [],
   "source": [
    "# Row Selection, Addition and Deletion"
   ]
  },
  {
   "cell_type": "code",
   "execution_count": 8,
   "metadata": {},
   "outputs": [
    {
     "name": "stdout",
     "output_type": "stream",
     "text": [
      "one    2.0\n",
      "two    2.0\n",
      "Name: b, dtype: float64\n"
     ]
    }
   ],
   "source": [
    "# Row Selection:\n",
    "# Selection by Label:\n",
    "import pandas as pd\n",
    "info={'one': pd.Series([1,2,3,4,5], index=['a','b','c','d','e']),\n",
    "     'two': pd.Series([1,2,3,4,5,6], index=['a','b','c','d','e','f'])}\n",
    "df=pd.DataFrame(info)\n",
    "print(df.loc['b'])"
   ]
  },
  {
   "cell_type": "code",
   "execution_count": 10,
   "metadata": {},
   "outputs": [
    {
     "name": "stdout",
     "output_type": "stream",
     "text": [
      "one    4.0\n",
      "two    4.0\n",
      "Name: d, dtype: float64\n"
     ]
    }
   ],
   "source": [
    "# Selection by integer location:\n",
    "import pandas as pd\n",
    "info={'one': pd.Series([1,2,3,4,5], index=['a','b','c','d','e']),\n",
    "     'two': pd.Series([1,2,3,4,5,6], index=['a','b','c','d','e','f'])}\n",
    "df=pd.DataFrame(info)\n",
    "print(df.iloc[3])"
   ]
  },
  {
   "cell_type": "code",
   "execution_count": 1,
   "metadata": {},
   "outputs": [
    {
     "name": "stdout",
     "output_type": "stream",
     "text": [
      "   one  two\n",
      "c  3.0    3\n",
      "d  4.0    4\n",
      "e  5.0    5\n"
     ]
    }
   ],
   "source": [
    "# Slice Rows\n",
    "import pandas as pd\n",
    "info={'one': pd.Series([1,2,3,4,5], index=['a','b','c','d','e']),\n",
    "     'two': pd.Series([1,2,3,4,5,6], index=['a','b','c','d','e','f'])}\n",
    "df=pd.DataFrame(info)\n",
    "print(df[2:5])"
   ]
  },
  {
   "cell_type": "code",
   "execution_count": 2,
   "metadata": {},
   "outputs": [
    {
     "name": "stdout",
     "output_type": "stream",
     "text": [
      "    x   y\n",
      "0   7   8\n",
      "1   9  10\n",
      "0  11  12\n",
      "1  13  14\n"
     ]
    }
   ],
   "source": [
    "# Addition of rows:\n",
    "import pandas as pd\n",
    "d= pd.DataFrame([[7,8], [9,10]], columns=['x','y'])\n",
    "d2= pd.DataFrame([[11,12], [13,14]], columns=['x','y'])\n",
    "d=d.append(d2)\n",
    "print(d)"
   ]
  },
  {
   "cell_type": "code",
   "execution_count": 5,
   "metadata": {},
   "outputs": [
    {
     "data": {
      "text/html": [
       "<div>\n",
       "<style scoped>\n",
       "    .dataframe tbody tr th:only-of-type {\n",
       "        vertical-align: middle;\n",
       "    }\n",
       "\n",
       "    .dataframe tbody tr th {\n",
       "        vertical-align: top;\n",
       "    }\n",
       "\n",
       "    .dataframe thead th {\n",
       "        text-align: right;\n",
       "    }\n",
       "</style>\n",
       "<table border=\"1\" class=\"dataframe\">\n",
       "  <thead>\n",
       "    <tr style=\"text-align: right;\">\n",
       "      <th></th>\n",
       "      <th>x</th>\n",
       "      <th>y</th>\n",
       "    </tr>\n",
       "  </thead>\n",
       "  <tbody>\n",
       "    <tr>\n",
       "      <th>1</th>\n",
       "      <td>6</td>\n",
       "      <td>7</td>\n",
       "    </tr>\n",
       "    <tr>\n",
       "      <th>1</th>\n",
       "      <td>10</td>\n",
       "      <td>11</td>\n",
       "    </tr>\n",
       "  </tbody>\n",
       "</table>\n",
       "</div>"
      ],
      "text/plain": [
       "    x   y\n",
       "1   6   7\n",
       "1  10  11"
      ]
     },
     "execution_count": 5,
     "metadata": {},
     "output_type": "execute_result"
    }
   ],
   "source": [
    "# Deletion of rows:\n",
    "import pandas as pd\n",
    "a_info= pd.DataFrame([[4,5], [6,7]], columns=['x','y'])\n",
    "b_info= pd.DataFrame([[8,9], [10,11]], columns=['x','y'])\n",
    "\n",
    "a_info= a_info.append(b_info)\n",
    "\n",
    "# Drop rows with label 0\n",
    "a_info= a_info.drop(0)\n",
    "a_info"
   ]
  },
  {
   "cell_type": "code",
   "execution_count": null,
   "metadata": {},
   "outputs": [],
   "source": []
  }
 ],
 "metadata": {
  "kernelspec": {
   "display_name": "Python 3",
   "language": "python",
   "name": "python3"
  },
  "language_info": {
   "codemirror_mode": {
    "name": "ipython",
    "version": 3
   },
   "file_extension": ".py",
   "mimetype": "text/x-python",
   "name": "python",
   "nbconvert_exporter": "python",
   "pygments_lexer": "ipython3",
   "version": "3.7.6"
  }
 },
 "nbformat": 4,
 "nbformat_minor": 4
}
